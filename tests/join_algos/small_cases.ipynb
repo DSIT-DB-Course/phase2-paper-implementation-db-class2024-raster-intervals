{
 "cells": [
  {
   "cell_type": "code",
   "execution_count": 2,
   "metadata": {},
   "outputs": [],
   "source": [
    "import matplotlib.pyplot as plt\n",
    "import matplotlib.patches as patches"
   ]
  },
  {
   "cell_type": "code",
   "execution_count": 4,
   "metadata": {},
   "outputs": [],
   "source": [
    "lhs = [\n",
    "    [(1, 2), (5, 3), (5, 7), (1, 7)],\n",
    "    [(2, 4), (4, 4), (4, 6), (2, 6)],\n",
    "    [(4, 2), (6, 2), (6, 4), (4, 4)],\n",
    "    [(6, 7), (9, 7), (9, 11), (6, 11)],\n",
    "]\n",
    "\n",
    "rhs = [\n",
    "    [(2, 7), (4, 7), (4, 8), (2, 8)],\n",
    "    [(7, 9), (8, 9), (8, 10), (7, 10)],\n",
    "    [(4, 9), (5, 9), (5, 10), (4, 10)],\n",
    "]"
   ]
  },
  {
   "cell_type": "code",
   "execution_count": 25,
   "metadata": {},
   "outputs": [
    {
     "data": {
      "image/png": "[encoded data removed]",
      "text/plain": [
       "<Figure size 640x480 with 1 Axes>"
      ]
     },
     "metadata": {},
     "output_type": "display_data"
    }
   ],
   "source": [
    "# Define the lists\n",
    "lhs = [\n",
    "    [(1, 3), (5, 3), (5, 7), (1, 7)],\n",
    "    [(2, 4), (4, 4), (4, 6), (2, 6)],\n",
    "    [(4, 2), (6, 2), (6, 4), (4, 4)],\n",
    "    [(6, 7), (9, 7), (9, 11), (6, 11)],\n",
    "]\n",
    "rhs = [\n",
    "    [(2, 7), (4, 7), (4, 8), (2, 8)],\n",
    "    [(7, 9), (8, 9), (8, 10), (7, 10)],\n",
    "    [(4, 9), (5, 9), (5, 10), (4, 10)],\n",
    "]\n",
    "\n",
    "\n",
    "# Function to plot rectangles\n",
    "def plot_rectangles(rectangles, color, marker):\n",
    "    for rect in rectangles:\n",
    "        polygon = patches.Polygon(\n",
    "            rect, closed=True, edgecolor=color, facecolor=\"none\")\n",
    "        plt.gca().add_patch(polygon)\n",
    "        for point in rect:\n",
    "            plt.plot(point[0], point[1], marker=marker, color=color)\n",
    "\n",
    "\n",
    "# Plotting the rectangles\n",
    "plt.figure()\n",
    "\n",
    "# Plot lhs rectangles in blue\n",
    "plot_rectangles(lhs, \"blue\", \"o\")\n",
    "\n",
    "# Plot rhs rectangles in red\n",
    "plot_rectangles(rhs, \"red\", \"x\")\n",
    "\n",
    "# Set the aspect of the plot to be equal\n",
    "plt.gca().set_aspect(\"equal\", adjustable=\"box\")\n",
    "plt.xlim(0, 10)\n",
    "plt.ylim(0, 12)\n",
    "# Show plot\n",
    "plt.show()"
   ]
  }
 ],
 "metadata": {
  "kernelspec": {
   "display_name": "d2l",
   "language": "python",
   "name": "python3"
  },
  "language_info": {
   "codemirror_mode": {
    "name": "ipython",
    "version": 3
   },
   "file_extension": ".py",
   "mimetype": "text/x-python",
   "name": "python",
   "nbconvert_exporter": "python",
   "pygments_lexer": "ipython3",
   "version": "3.11.7"
  },
  "orig_nbformat": 4
 },
 "nbformat": 4,
 "nbformat_minor": 2
}
