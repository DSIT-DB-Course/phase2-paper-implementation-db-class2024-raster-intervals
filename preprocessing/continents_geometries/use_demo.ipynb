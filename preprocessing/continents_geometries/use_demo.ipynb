{
 "cells": [
  {
   "cell_type": "code",
   "execution_count": 50,
   "metadata": {},
   "outputs": [],
   "source": [
    "import geopandas as gpd\n",
    "\n",
    "shapefile_path = \"World_Continents\"\n",
    "continents_df = gpd.read_file(shapefile_path)  \n",
    "continents_df = continents_df[['CONTINENT', 'geometry']]\n",
    "continents = ['North America', 'South America', 'Oceania', 'Europe', 'Asia', 'Africa']\n",
    "continents_df = continents_df[continents_df['CONTINENT'].isin(continents)]"
   ]
  },
  {
   "cell_type": "code",
   "execution_count": 51,
   "metadata": {},
   "outputs": [
    {
     "data": {
      "text/html": [
       "<div>\n",
       "<style scoped>\n",
       "    .dataframe tbody tr th:only-of-type {\n",
       "        vertical-align: middle;\n",
       "    }\n",
       "\n",
       "    .dataframe tbody tr th {\n",
       "        vertical-align: top;\n",
       "    }\n",
       "\n",
       "    .dataframe thead th {\n",
       "        text-align: right;\n",
       "    }\n",
       "</style>\n",
       "<table border=\"1\" class=\"dataframe\">\n",
       "  <thead>\n",
       "    <tr style=\"text-align: right;\">\n",
       "      <th></th>\n",
       "      <th>CONTINENT</th>\n",
       "      <th>geometry</th>\n",
       "    </tr>\n",
       "  </thead>\n",
       "  <tbody>\n",
       "    <tr>\n",
       "      <th>0</th>\n",
       "      <td>Africa</td>\n",
       "      <td>MULTIPOLYGON (((3950542.075 -2473747.938, 3946...</td>\n",
       "    </tr>\n",
       "    <tr>\n",
       "      <th>1</th>\n",
       "      <td>Asia</td>\n",
       "      <td>MULTIPOLYGON (((-20037507.067 10744605.176, -2...</td>\n",
       "    </tr>\n",
       "    <tr>\n",
       "      <th>3</th>\n",
       "      <td>Oceania</td>\n",
       "      <td>MULTIPOLYGON (((20037507.067 -1916837.495, 200...</td>\n",
       "    </tr>\n",
       "    <tr>\n",
       "      <th>4</th>\n",
       "      <td>South America</td>\n",
       "      <td>MULTIPOLYGON (((-7481659.964 -7536755.913, -74...</td>\n",
       "    </tr>\n",
       "    <tr>\n",
       "      <th>6</th>\n",
       "      <td>Europe</td>\n",
       "      <td>MULTIPOLYGON (((2654806.574 4235181.553, 26684...</td>\n",
       "    </tr>\n",
       "    <tr>\n",
       "      <th>7</th>\n",
       "      <td>North America</td>\n",
       "      <td>MULTIPOLYGON (((-9092406.120 824784.893, -9089...</td>\n",
       "    </tr>\n",
       "  </tbody>\n",
       "</table>\n",
       "</div>"
      ],
      "text/plain": [
       "       CONTINENT                                           geometry\n",
       "0         Africa  MULTIPOLYGON (((3950542.075 -2473747.938, 3946...\n",
       "1           Asia  MULTIPOLYGON (((-20037507.067 10744605.176, -2...\n",
       "3        Oceania  MULTIPOLYGON (((20037507.067 -1916837.495, 200...\n",
       "4  South America  MULTIPOLYGON (((-7481659.964 -7536755.913, -74...\n",
       "6         Europe  MULTIPOLYGON (((2654806.574 4235181.553, 26684...\n",
       "7  North America  MULTIPOLYGON (((-9092406.120 824784.893, -9089..."
      ]
     },
     "execution_count": 51,
     "metadata": {},
     "output_type": "execute_result"
    }
   ],
   "source": [
    "continents_df.head(10)"
   ]
  }
 ],
 "metadata": {
  "kernelspec": {
   "display_name": "Python 3",
   "language": "python",
   "name": "python3"
  },
  "language_info": {
   "codemirror_mode": {
    "name": "ipython",
    "version": 3
   },
   "file_extension": ".py",
   "mimetype": "text/x-python",
   "name": "python",
   "nbconvert_exporter": "python",
   "pygments_lexer": "ipython3",
   "version": "3.10.12"
  }
 },
 "nbformat": 4,
 "nbformat_minor": 2
}
